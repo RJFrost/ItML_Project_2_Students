{
 "cells": [
  {
   "cell_type": "code",
   "execution_count": 1,
   "metadata": {},
   "outputs": [],
   "source": [
    "import os, warnings\n",
    "from tensorflow.keras.utils import image_dataset_from_directory\n",
    "import wget\n",
    "import zipfile\n",
    "import matplotlib.pyplot as plt\n",
    "from tensorflow.keras.preprocessing.image import ImageDataGenerator\n",
    "from tensorflow.keras import layers, models"
   ]
  },
  {
   "attachments": {},
   "cell_type": "markdown",
   "metadata": {},
   "source": [
    "# Project 2 - Veggie Classification\n",
    "\n",
    "For this assignment you'll need to classify some images of vegetables. \n",
    "\n",
    "## Parts\n",
    "\n",
    "Please do two separate classifications:\n",
    "<ol>\n",
    "<li> First, create a model from scratch. \n",
    "<li> Use transfer learning to use a pretrained model of your choice, adapted to this data. \n",
    "</ol>\n",
    "\n",
    "There won't be an explicit evaluation of accuracy, but you should take some steps to make each model as accurate as you reasonably can, any tuning option is fair game. Along with that, please structure it into a notebook that is well structured and clear that explains what you did and found. Think about:\n",
    "<ul>\n",
    "<li> Sections and headings. \n",
    "<li> A description of the approach taken (e.g. what did you do to determine size, tune, evaluate, etc...)\n",
    "<li> Visualization of some important things such as a confusion matrix and maybe some images. \n",
    "<li> Results, mainly focused on the scoring of the test data. \n",
    "</ul>\n",
    "\n",
    "The descriptions and explainations should highlight the choices you made and why you made them. Figure up to about a page or so worth of text total, explain what happened but don't write an essay. \n",
    "\n",
    "## Deliverables\n",
    "\n",
    "Please sumbmit a link to your github, where everyhting is fully run with all the outputs showing on the page. As well, in the notebook please add some kind of switch controlled by a variable that will control if the notebook runs to train the model or to load the model in from weights - so I can download it and click run all, it will load the saved weights, and predict.\n",
    "\n",
    "### Dataset\n",
    "\n",
    "The code in the start of this notebook will download and unzip the dataset, and there is also a simple example of creating datasets. You can change the dataset bit to use a different approach if you'd like. The data is already split into train, validation, and test sets. Please treat the separate test set as the final test set, and don't use it for any training or validation. Each folder name is its own label.\n",
    "\n",
    "### Evaluation\n",
    "\n",
    "Marking will be based on the following:\n",
    "<ul>\n",
    "<li> Models are cretaed, tuned, and effective at classifying the data: 40%\n",
    "<li> Descriptions and explanations of the approach taken: 20%\n",
    "<li> Code is well structured and clear: 20%\n",
    "</ul>\n",
    "\n",
    "Overall the marking is pretty simple and direct, walk through the process of predicting the veggies, explain what you did, and show the results. If you do that, it'll get a good mark.\n",
    "\n",
    "### Tips\n",
    "\n",
    "Some hints that may be helpful to keep in mind:\n",
    "<ul>\n",
    "<li> The data is pretty large, so you'll want to use datasets rather than load everything into memory. The Keras docs have a few examples of different ways to load image data, our examples showed image generators and the image from directory datasets.  \n",
    "<li> Be careful of batch size, you may hit the colab limits. \n",
    "<li> You'll want to use checkpoints so you can let it train and pick up where you left off.\n",
    "<li> When developing, using a smaller dataset sample is a good idea. These weights could also be saved and loaded to jump start training on the full data. \n",
    "<li>"
   ]
  },
  {
   "cell_type": "markdown",
   "metadata": {},
   "source": [
    "### Download and Unzip Data"
   ]
  },
  {
   "cell_type": "code",
   "execution_count": 19,
   "metadata": {},
   "outputs": [],
   "source": [
    "def download_and_unzip_data():\n",
    "    def bar_custom(current, total, width=80):\n",
    "        print(\"Downloading: %d%% [%d / %d] bytes\" % (current / total * 100, current, total))\n",
    "\n",
    "    zip_name = \"train.zip\"\n",
    "    url = \"https://jrssbcrsefilesnait.blob.core.windows.net/3950data1/vegetable_image_dataset.zip\"\n",
    "\n",
    "    if not os.path.exists(zip_name):\n",
    "        wget.download(url, zip_name, bar=bar_custom)\n",
    "\n",
    "    with zipfile.ZipFile(zip_name, 'r') as zip_ref:\n",
    "        zip_ref.extractall()"
   ]
  },
  {
   "cell_type": "markdown",
   "metadata": {},
   "source": [
    "## Data Preparation"
   ]
  },
  {
   "cell_type": "code",
   "execution_count": 28,
   "metadata": {},
   "outputs": [],
   "source": [
    "def generate_datasets():\n",
    "    try:\n",
    "        IMAGE_SIZE = (224, 224)\n",
    "        train_dir = 'Vegetable Images/train'\n",
    "        val_dir = 'Vegetable Images/validation'\n",
    "        batch_size = 32\n",
    "\n",
    "        train_datagen = ImageDataGenerator(\n",
    "            rescale=1./255,\n",
    "            rotation_range=20,\n",
    "            width_shift_range=0.2,\n",
    "            height_shift_range=0.2,\n",
    "            shear_range=0.2,\n",
    "            zoom_range=0.2,\n",
    "            horizontal_flip=True,\n",
    "            fill_mode='nearest'\n",
    "        )\n",
    "\n",
    "        val_datagen = ImageDataGenerator(rescale=1./255)\n",
    "\n",
    "        train_generator = train_datagen.flow_from_directory(\n",
    "            train_dir,\n",
    "            target_size=IMAGE_SIZE,\n",
    "            batch_size=batch_size,\n",
    "            class_mode='categorical'\n",
    "        )\n",
    "\n",
    "        val_generator = val_datagen.flow_from_directory(\n",
    "            val_dir,\n",
    "            target_size=IMAGE_SIZE,\n",
    "            batch_size=batch_size,\n",
    "            class_mode='categorical'\n",
    "        )\n",
    "\n",
    "        return train_generator, val_generator\n",
    "    except Exception as e:\n",
    "        print(\"Error generating datasets:\", e)\n",
    "        return None, None\n"
   ]
  },
  {
   "cell_type": "markdown",
   "metadata": {},
   "source": [
    "## Custom Model Training"
   ]
  },
  {
   "cell_type": "code",
   "execution_count": 23,
   "metadata": {},
   "outputs": [],
   "source": [
    "def define_model():\n",
    "    input_shape = (224, 224, 3)\n",
    "    model = models.Sequential([\n",
    "        layers.Input(shape=input_shape),\n",
    "        layers.Conv2D(32, (3, 3), activation='relu'),\n",
    "        layers.MaxPooling2D((2, 2)),\n",
    "        layers.Conv2D(64, (3, 3), activation='relu'),\n",
    "        layers.MaxPooling2D((2, 2)),\n",
    "        layers.Conv2D(128, (3, 3), activation='relu'),\n",
    "        layers.MaxPooling2D((2, 2)),\n",
    "        layers.Flatten(),\n",
    "        layers.Dense(128, activation='relu'),\n",
    "        layers.Dense(15, activation='softmax')\n",
    "    ])\n",
    "    return model"
   ]
  },
  {
   "cell_type": "code",
   "execution_count": 24,
   "metadata": {},
   "outputs": [],
   "source": [
    "def train_model(model, train_generator, val_generator):\n",
    "    model.compile(optimizer='adam',\n",
    "                  loss='categorical_crossentropy',\n",
    "                  metrics=['accuracy'])\n",
    "    history = model.fit(train_generator, validation_data=val_generator, epochs=5)\n",
    "    return history"
   ]
  },
  {
   "cell_type": "code",
   "execution_count": 25,
   "metadata": {},
   "outputs": [],
   "source": [
    "def evaluate_model(model, val_generator):\n",
    "    evaluation = model.evaluate(val_generator)\n",
    "    print(\"Evaluation Results:\")\n",
    "    print(\"Validation Loss:\", evaluation[0])\n",
    "    print(\"Validation Accuracy:\", evaluation[1])"
   ]
  },
  {
   "cell_type": "code",
   "execution_count": 26,
   "metadata": {},
   "outputs": [],
   "source": [
    "def plot_training_history(history):\n",
    "    plt.plot(history.history['accuracy'], label='Training Accuracy')\n",
    "    plt.plot(history.history['val_accuracy'], label='Validation Accuracy')\n",
    "    plt.title('Training and Validation Accuracy')\n",
    "    plt.xlabel('Epoch')\n",
    "    plt.ylabel('Accuracy')\n",
    "    plt.legend()\n",
    "    plt.show()\n",
    "\n",
    "    plt.plot(history.history['loss'], label='Training Loss')\n",
    "    plt.plot(history.history['val_loss'], label='Validation Loss')\n",
    "    plt.title('Training and Validation Loss')\n",
    "    plt.xlabel('Epoch')\n",
    "    plt.ylabel('Loss')\n",
    "    plt.legend()\n",
    "    plt.show()"
   ]
  },
  {
   "cell_type": "markdown",
   "metadata": {},
   "source": [
    "## Test Best Models and Illustrate Results"
   ]
  },
  {
   "cell_type": "code",
   "execution_count": 33,
   "metadata": {},
   "outputs": [
    {
     "name": "stdout",
     "output_type": "stream",
     "text": [
      "Found 15000 images belonging to 15 classes.\n",
      "Found 3000 images belonging to 15 classes.\n",
      "Epoch 1/5\n",
      "\u001b[1m110/469\u001b[0m \u001b[32m━━━━\u001b[0m\u001b[37m━━━━━━━━━━━━━━━━\u001b[0m \u001b[1m3:01\u001b[0m 506ms/step - accuracy: 0.1605 - loss: 2.6651"
     ]
    }
   ],
   "source": [
    "def main():\n",
    "    \n",
    "    download_and_unzip_data()\n",
    "\n",
    " \n",
    "    train_generator, val_generator = generate_datasets()\n",
    "\n",
    "   \n",
    "    model = define_model()\n",
    "\n",
    "  \n",
    "    history = train_model(model, train_generator, val_generator)\n",
    "\n",
    "   \n",
    "    evaluate_model(model, val_generator)\n",
    "\n",
    "   \n",
    "    plot_training_history(history)\n",
    "\n",
    "if __name__ == \"__main__\":\n",
    "    main()"
   ]
  },
  {
   "cell_type": "markdown",
   "metadata": {},
   "source": [
    "## Test Best Models and Illustrate Results"
   ]
  },
  {
   "cell_type": "code",
   "execution_count": 32,
   "metadata": {},
   "outputs": [
    {
     "name": "stdout",
     "output_type": "stream",
     "text": [
      "Found 3000 files belonging to 15 classes.\n"
     ]
    }
   ],
   "source": [
    "test_dir='Vegetable Images/test'\n",
    "test_ds = image_dataset_from_directory(\n",
    "    test_dir,\n",
    "    label_mode='categorical',\n",
    "    image_size = IMAGE_SIZE,\n",
    "    batch_size = batch_size,\n",
    ")"
   ]
  }
 ],
 "metadata": {
  "kernelspec": {
   "display_name": "ml3950",
   "language": "python",
   "name": "python3"
  },
  "language_info": {
   "codemirror_mode": {
    "name": "ipython",
    "version": 3
   },
   "file_extension": ".py",
   "mimetype": "text/x-python",
   "name": "python",
   "nbconvert_exporter": "python",
   "pygments_lexer": "ipython3",
   "version": "3.11.4"
  },
  "orig_nbformat": 4
 },
 "nbformat": 4,
 "nbformat_minor": 2
}
